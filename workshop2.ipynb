{
 "cells": [
  {
   "cell_type": "code",
   "execution_count": 3,
   "metadata": {},
   "outputs": [],
   "source": [
    "import rclpy\n",
    "from rclpy.node import Node\n",
    "from geometry_msgs.msg import Twist\n",
    "from sensor_msgs.msg import LaserScan\n",
    "import math\n",
    "\n",
    "#import everything necessary"
   ]
  },
  {
   "cell_type": "code",
   "execution_count": 4,
   "metadata": {},
   "outputs": [
    {
     "data": {
      "text/plain": [
       "'implement a behaviour that takes the robot forward if there is more than \\n50cm space in front of it but make it turn to the left, if there isnt enough space.'"
      ]
     },
     "execution_count": 4,
     "metadata": {},
     "output_type": "execute_result"
    }
   ],
   "source": [
    "\"\"\"implement a behaviour that takes the robot forward if there is more than \n",
    "50cm space in front of it but make it turn to the left, if there isnt enough space.\"\"\"\n",
    "\n",
    "class Roamer(Node):\n",
    "    # simple node that subscribes to scan and publishes twist msgs to cmd_vel\n",
    "\n",
    "    def _init__(self):\n",
    "        # initialise sub and pub for scan and cmd_vel\n",
    "\n",
    "        super().init__('roamer')\n",
    "\n",
    "        self.laser_sub = self.create_subscription(LaserScan, \"/scan\", self.callback, 1)\n",
    "        #Creates subscription of data type LaserScan, to the /scan topic, with a queue size of 1\n",
    "        # self.callback is run every time it receives a msg\n",
    "\n",
    "        self.twist_pub = self.create_publisher(Twist, \"/cmd_vel\", 1)\n",
    "        #creates publisher of Twist msg to topic cmd_vel, queue of 1\n",
    "\n",
    "    \n"
   ]
  }
 ],
 "metadata": {
  "kernelspec": {
   "display_name": "Python 3",
   "language": "python",
   "name": "python3"
  },
  "language_info": {
   "codemirror_mode": {
    "name": "ipython",
    "version": 3
   },
   "file_extension": ".py",
   "mimetype": "text/x-python",
   "name": "python",
   "nbconvert_exporter": "python",
   "pygments_lexer": "ipython3",
   "version": "3.10.6"
  },
  "orig_nbformat": 4,
  "vscode": {
   "interpreter": {
    "hash": "916dbcbb3f70747c44a77c7bcd40155683ae19c65e1c03b4aa3499c5328201f1"
   }
  }
 },
 "nbformat": 4,
 "nbformat_minor": 2
}
