{
 "cells": [
  {
   "cell_type": "code",
   "execution_count": 3,
   "metadata": {},
   "outputs": [],
   "source": [
    "import rclpy\n",
    "from rclpy.node import Node\n",
    "from geometry_msgs.msg import Twist\n",
    "from sensor_msgs.msg import LaserScan\n",
    "import math\n",
    "\n",
    "#import everything necessary"
   ]
  },
  {
   "cell_type": "code",
   "execution_count": 4,
   "metadata": {},
   "outputs": [
    {
     "data": {
      "text/plain": [
       "'implement a behaviour that takes the robot forward if there is more than \\n50cm space in front of it but make it turn to the left, if there isnt enough space.'"
      ]
     },
     "execution_count": 4,
     "metadata": {},
     "output_type": "execute_result"
    }
   ],
   "source": [
    "\"\"\"implement a behaviour that takes the robot forward if there is more than \n",
    "50cm space in front of it but make it turn to the left, if there isnt enough space.\"\"\"\n",
    "\n",
    "#refernce:\n",
    "#https://github.com/LCAS/teaching/blob/lcas_humble/cmp3103m_ros2_code_fragments/cmp3103m_ros2_code_fragments/roamer.py\n",
    "\n",
    "class Roamer(Node):\n",
    "    # simple node that subscribes to scan and publishes twist msgs to cmd_vel\n",
    "\n",
    "    min_distance = 0.5 #0.5m of space away from obstacles\n",
    "    turn_speed = 0.2 #rad/s turn speed if obstacle is detected\n",
    "    forward_speed = 0.2 #m/s, speed to go forward if no obstacle spotted\n",
    "    scan_segment = 60 #degrees, the size of the left and right laser segment that is checked for obstacles\n",
    "    \n",
    "\n",
    "    def _init__(self):\n",
    "        # initialise sub and pub for scan and cmd_vel\n",
    "        super().init__('roamer')\n",
    "\n",
    "        self.laser_sub = self.create_subscription(LaserScan, \"/scan\", self.callback, 1)\n",
    "        #Creates subscription of data type LaserScan, to the /scan topic, with a queue size of 1\n",
    "        # self.callback is run every time it receives a msg\n",
    "\n",
    "        self.twist_pub = self.create_publisher(Twist, \"/cmd_vel\", 1)\n",
    "        #creates publisher of Twist msg to topic cmd_vel, queue of 1\n",
    "\n",
    "    #finds smallest value in array, for checking laserscan data\n",
    "    def min_range(self, range):\n",
    "        min_range = math.inf\n",
    "        for v in range:\n",
    "            if v < min_range:\n",
    "                min_range = v\n",
    "        \n",
    "        return min_range\n",
    "    \n",
    "    #callback function \n",
    "    def callback(self, data):\n",
    "        #checks left and right 45 degree segments of laserscan\n",
    "        min_right = self.min_range(data.ranges[:self.scan_segment])\n",
    "        min_left = self.min_range(data.ranges[-self.scan_segment:])\n",
    "\n",
    "        #create twist msg\n",
    "        twist= Twist()\n",
    "\n",
    "        #publish twist msg with data needed for current environment\n",
    "        if min_right < self.min_distance:\n",
    "            self.get_logger().info('turning left')\n",
    "            twist.angular.z = -self.turn_speed\n",
    "        \n",
    "        elif min_left < self.min_distance:\n",
    "            self.get_logger().info('turning right')\n",
    "            twist.angular.z = self.turn_speed\n",
    "\n",
    "        else:\n",
    "            self.get_logger().info(\"going straight\")\n",
    "            twist.linear.x = self.forward_speed\n",
    "        \n",
    "        self.twist_pub.publish(twist)\n",
    "    \n",
    "def main(args=None):\n",
    "\n",
    "    # Initilises ROS python subsytem\n",
    "    try:\n",
    "        rclpy.init()\n",
    "\n",
    "        node = Roamer() #create node\n",
    "\n",
    "        rclpy.spin(node) #node will keep running until stopped\n",
    "    \n",
    "    except KeyboardInterrupt:\n",
    "        print(\"Interrupted by keyboard\")\n",
    "    \n",
    "    finally:\n",
    "        node.destroy_node()\n",
    "\n",
    "if __name__ == '__main__':\n",
    "    main()"
   ]
  }
 ],
 "metadata": {
  "kernelspec": {
   "display_name": "Python 3",
   "language": "python",
   "name": "python3"
  },
  "language_info": {
   "codemirror_mode": {
    "name": "ipython",
    "version": 3
   },
   "file_extension": ".py",
   "mimetype": "text/x-python",
   "name": "python",
   "nbconvert_exporter": "python",
   "pygments_lexer": "ipython3",
   "version": "3.10.6"
  },
  "orig_nbformat": 4,
  "vscode": {
   "interpreter": {
    "hash": "916dbcbb3f70747c44a77c7bcd40155683ae19c65e1c03b4aa3499c5328201f1"
   }
  }
 },
 "nbformat": 4,
 "nbformat_minor": 2
}
